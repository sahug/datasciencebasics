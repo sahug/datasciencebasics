{
 "cells": [
  {
   "cell_type": "markdown",
   "metadata": {},
   "source": [
    "## Central Limit Theorem\n",
    "The central limit theorem states that if you have a population with mean μ and standard deviation σ and take sufficiently large random samples from the population with replacement , then the distribution of the sample means will be approximately normally distributed."
   ]
  },
  {
   "cell_type": "code",
   "execution_count": 1,
   "metadata": {},
   "outputs": [],
   "source": [
    "import numpy as np\n",
    "import matplotlib.pyplot as plt\n",
    "import seaborn as sns\n",
    "%matplotlib inline"
   ]
  },
  {
   "cell_type": "code",
   "execution_count": 3,
   "metadata": {},
   "outputs": [],
   "source": [
    "# Population of size 10,000\n",
    "population = np.random.binomial(10, 0.4, 10000)"
   ]
  },
  {
   "cell_type": "code",
   "execution_count": 24,
   "metadata": {},
   "outputs": [],
   "source": [
    "sample_means = []\n",
    "for x in range(1, 100):\n",
    "    sample = np.random.choice(population, size=int(.30 * len(population)), replace=False)\n",
    "    sample_means.append(np.mean(sample))"
   ]
  },
  {
   "cell_type": "code",
   "execution_count": 25,
   "metadata": {},
   "outputs": [
    {
     "name": "stdout",
     "output_type": "stream",
     "text": [
      "Mean of Sample means: 3.9855252525252527\n",
      "Mean of Population: 3.9834\n"
     ]
    }
   ],
   "source": [
    "# Calculating mean of sample_means and population mean\n",
    "mean_of_sample_mean = np.mean(sample_means)\n",
    "population_mean = np.mean(population)\n",
    "\n",
    "print(\"Mean of Sample means: \" + str(mean_of_sample_mean))\n",
    "print(\"Mean of Population: \" + str(population_mean))"
   ]
  },
  {
   "cell_type": "code",
   "execution_count": 26,
   "metadata": {},
   "outputs": [
    {
     "data": {
      "image/png": "[encoded data removed]",
      "text/plain": [
       "<Figure size 432x288 with 1 Axes>"
      ]
     },
     "metadata": {
      "needs_background": "light"
     },
     "output_type": "display_data"
    }
   ],
   "source": [
    "ax = sns.distplot(sample_means,\n",
    "                 kde=True,\n",
    "                 color=\"orange\",\n",
    "                 hist_kws={\"linewidth\": 15, \"alpha\": 1})"
   ]
  },
  {
   "cell_type": "code",
   "execution_count": 27,
   "metadata": {},
   "outputs": [
    {
     "name": "stderr",
     "output_type": "stream",
     "text": [
      "/Users/gajendrasahu/opt/anaconda3/envs/datascience/lib/python3.5/site-packages/matplotlib/axes/_axes.py:6499: MatplotlibDeprecationWarning: \n",
      "The 'normed' kwarg was deprecated in Matplotlib 2.1 and will be removed in 3.1. Use 'density' instead.\n",
      "  alternative=\"'density'\", removal=\"3.1\")\n"
     ]
    },
    {
     "data": {
      "text/plain": [
       "(array([ 8.73286176,  0.        ,  0.        ,  0.        ,  8.73286176,\n",
       "         0.        ,  0.        ,  0.        ,  0.        ,  0.        ,\n",
       "         0.        ,  0.        ,  0.        ,  8.73286176,  8.73286176,\n",
       "         0.        ,  8.73286176,  8.73286176,  8.73286176,  0.        ,\n",
       "         0.        ,  8.73286176,  0.        ,  0.        ,  8.73286176,\n",
       "         8.73286176,  0.        ,  8.73286176,  8.73286176,  0.        ,\n",
       "        17.46572352, 17.46572352,  8.73286176, 17.46572352, 17.46572352,\n",
       "         8.73286176,  8.73286176,  0.        , 17.46572352, 26.19858528,\n",
       "        34.93144704,  8.73286176,  0.        ,  0.        , 17.46572352,\n",
       "         8.73286176,  0.        ,  8.73286176,  0.        , 26.19858528,\n",
       "        26.19858528, 26.19858528,  8.73286176, 17.46572352, 34.93144704,\n",
       "        34.93144704, 17.46572352, 17.46572352, 26.19858528,  8.73286176,\n",
       "        26.19858528,  8.73286176, 26.19858528, 17.46572352,  8.73286176,\n",
       "        17.46572352,  8.73286176, 17.46572352, 26.19858528, 43.66430879,\n",
       "         8.73286176,  8.73286176,  0.        , 17.46572352, 17.46572352,\n",
       "         8.73286176,  0.        ,  0.        ,  0.        ,  0.        ,\n",
       "         0.        ,  0.        ,  0.        ,  0.        ,  0.        ,\n",
       "         8.73286176,  0.        ,  0.        ,  0.        ,  0.        ,\n",
       "         0.        ,  0.        ,  8.73286176,  0.        ,  0.        ,\n",
       "         0.        ,  0.        ,  0.        ,  8.73286176,  8.73286176]),\n",
       " array([3.92633333, 3.92749   , 3.92864667, 3.92980333, 3.93096   ,\n",
       "        3.93211667, 3.93327333, 3.93443   , 3.93558667, 3.93674333,\n",
       "        3.9379    , 3.93905667, 3.94021333, 3.94137   , 3.94252667,\n",
       "        3.94368333, 3.94484   , 3.94599667, 3.94715333, 3.94831   ,\n",
       "        3.94946667, 3.95062333, 3.95178   , 3.95293667, 3.95409333,\n",
       "        3.95525   , 3.95640667, 3.95756333, 3.95872   , 3.95987667,\n",
       "        3.96103333, 3.96219   , 3.96334667, 3.96450333, 3.96566   ,\n",
       "        3.96681667, 3.96797333, 3.96913   , 3.97028667, 3.97144333,\n",
       "        3.9726    , 3.97375667, 3.97491333, 3.97607   , 3.97722667,\n",
       "        3.97838333, 3.97954   , 3.98069667, 3.98185333, 3.98301   ,\n",
       "        3.98416667, 3.98532333, 3.98648   , 3.98763667, 3.98879333,\n",
       "        3.98995   , 3.99110667, 3.99226333, 3.99342   , 3.99457667,\n",
       "        3.99573333, 3.99689   , 3.99804667, 3.99920333, 4.00036   ,\n",
       "        4.00151667, 4.00267333, 4.00383   , 4.00498667, 4.00614333,\n",
       "        4.0073    , 4.00845667, 4.00961333, 4.01077   , 4.01192667,\n",
       "        4.01308333, 4.01424   , 4.01539667, 4.01655333, 4.01771   ,\n",
       "        4.01886667, 4.02002333, 4.02118   , 4.02233667, 4.02349333,\n",
       "        4.02465   , 4.02580667, 4.02696333, 4.02812   , 4.02927667,\n",
       "        4.03043333, 4.03159   , 4.03274667, 4.03390333, 4.03506   ,\n",
       "        4.03621667, 4.03737333, 4.03853   , 4.03968667, 4.04084333,\n",
       "        4.042     ]),\n",
       " <a list of 100 Patch objects>)"
      ]
     },
     "execution_count": 27,
     "metadata": {},
     "output_type": "execute_result"
    },
    {
     "data": {
      "image/png": "[encoded data removed]",
      "text/plain": [
       "<Figure size 432x288 with 1 Axes>"
      ]
     },
     "metadata": {
      "needs_background": "light"
     },
     "output_type": "display_data"
    }
   ],
   "source": [
    "# Create the bins and histogram\n",
    "plt.hist(sample_means, 100, normed=True)"
   ]
  },
  {
   "cell_type": "code",
   "execution_count": null,
   "metadata": {},
   "outputs": [],
   "source": []
  }
 ],
 "metadata": {
  "kernelspec": {
   "display_name": "Python 3",
   "language": "python",
   "name": "python3"
  },
  "language_info": {
   "codemirror_mode": {
    "name": "ipython",
    "version": 3
   },
   "file_extension": ".py",
   "mimetype": "text/x-python",
   "name": "python",
   "nbconvert_exporter": "python",
   "pygments_lexer": "ipython3",
   "version": "3.5.6"
  }
 },
 "nbformat": 4,
 "nbformat_minor": 4
}
