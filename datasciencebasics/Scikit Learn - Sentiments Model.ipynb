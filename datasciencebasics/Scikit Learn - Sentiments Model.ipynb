{
 "cells": [
  {
   "cell_type": "markdown",
   "metadata": {},
   "source": [
    "## Predicting Positive or Negative Comments"
   ]
  },
  {
   "cell_type": "code",
   "execution_count": 113,
   "metadata": {},
   "outputs": [],
   "source": [
    "class Sentiment:\n",
    "    NEGATIVE = \"NEGATIVE\"\n",
    "    NEUTRAL = \"NEUTRAL\"\n",
    "    POSITIVE = \"POSITIVE\""
   ]
  },
  {
   "cell_type": "code",
   "execution_count": 114,
   "metadata": {},
   "outputs": [],
   "source": [
    "class Review:\n",
    "    \n",
    "    def __init__(self, text, score):\n",
    "        self.text = text\n",
    "        self.score = score\n",
    "        self.sentiment = self.get_sentiment()\n",
    "    \n",
    "    def get_sentiment(self):\n",
    "        if self.score <= 2:\n",
    "            return Sentiment.NEGATIVE\n",
    "        elif self.score == 3:\n",
    "            return Sentiment.NEUTRAL\n",
    "        else:\n",
    "            return Sentiment.POSITIVE"
   ]
  },
  {
   "cell_type": "code",
   "execution_count": null,
   "metadata": {},
   "outputs": [],
   "source": [
    "# Not used but can be used to evenly distribute the training data so we don't have more of one status over \n",
    "# other and our mode performs better.\n",
    "\n",
    "class ReviewContainer:\n",
    "    \n",
    "    def __init__(self, reviews):\n",
    "        self.reviews = reviews\n",
    "        \n",
    "    def evenly_distribute(self):\n",
    "        negative = filter(lambda x: x.sentiment == Sentiment.NEGATIVE, self.reviews)\n",
    "        positive = filter(lambda x: x.sentiment == Sentiment.POSITIVE, self.reviews)\n",
    "        neutral = filter(lambda x: x.sentiment == Sentiment.NEUTRAL, self.reviews)\n",
    "        \n",
    "        # Print samples\n",
    "        print(negative[0].text)\n",
    "        print(positive[0].text)\n",
    "        print(neutral[0].text)\n",
    "    "
   ]
  },
  {
   "cell_type": "code",
   "execution_count": 115,
   "metadata": {},
   "outputs": [],
   "source": [
    "import json"
   ]
  },
  {
   "cell_type": "code",
   "execution_count": 116,
   "metadata": {},
   "outputs": [
    {
     "name": "stdout",
     "output_type": "stream",
     "text": [
      "I enjoyed this short book. But it was way way to short ....I can see how easily it would have been to add several chapters.\n",
      "3.0\n",
      "NEUTRAL\n"
     ]
    }
   ],
   "source": [
    "# Run this first and we will check the model. The model performs good for Positive but not for others as you can see below.\n",
    "#file_name = \"books_small.json\" \n",
    "\n",
    "# Run this after which has varied data. In this we can see all three status performing well.\n",
    "\n",
    "file_name = \"books_big.json\" \n",
    "\n",
    "reviews = []\n",
    "\n",
    "with open(file_name) as f:\n",
    "    for line in f:\n",
    "        review = json.loads(line)\n",
    "        reviews.append(Review(review[\"reviewText\"], review[\"overall\"]))\n",
    "        \n",
    "print(reviews[1].text)\n",
    "print(reviews[1].score)\n",
    "print(reviews[1].sentiment)"
   ]
  },
  {
   "cell_type": "markdown",
   "metadata": {},
   "source": [
    "## Prep Data"
   ]
  },
  {
   "cell_type": "code",
   "execution_count": 117,
   "metadata": {},
   "outputs": [],
   "source": [
    "from sklearn.model_selection import train_test_split"
   ]
  },
  {
   "cell_type": "code",
   "execution_count": 118,
   "metadata": {},
   "outputs": [
    {
     "name": "stdout",
     "output_type": "stream",
     "text": [
      "6700\n",
      "3300\n",
      "Olivia Hampton arrives at the Dunraven family home as cataloger of their extensive library. What she doesn't expect is a broken carriage wheel on the way. Nor a young girl whose mind is clearly gone, an old man in need of care himself (and doesn&#8217;t quite seem all there in Olivia&#8217;s opinion). Furthermore, Marion Dunraven, the only sane one of the bunch and the one Olivia is inexplicable drawn to, seems captive to everyone in the dusty old house. More importantly, she doesn't expect to fall in love with Dunraven's daughter Marion.Can Olivia truly believe the stories of sadness and death that surround the house, or are they all just local neighborhood rumor?Was that carriage trouble just a coincidence or a supernatural sign to stay away? If she remains, will the Castle&#8217;s dark shadows take Olivia down with them or will she and Marion long enough to declare their love?Patty G. Henderson has created an atmospheric and intriguing story in her Gothic tale. I found this to be an enjoyable read, even if it isn&#8217;t my usual preferred genre. I think, with this tale, I got hooked on the old Gothic romantic style. So I think fans of the genre (and of lesbian romances) will enjoy it.\n",
      "was sent an Arc of this book for an honest review and here it is = This is the kind of book that you want to read while sitting in front of the fire with a cup of hot apple cider and a blanket over your legs.I have read many of Jaci Burton's books and have never been disappointed. This first book in her new Hope series does not disappoint either.This is the story of Emma, a new vet who has come back home to open her own practice and Luke McCormack, a police officer in the same town.Both have been previously burned by love so both have issues but, that doesn't stop them from acting on that attraction.This book pulls you in from the first page, wraps you up and doesn't let you go until the end.I loved it!\n"
     ]
    }
   ],
   "source": [
    "# 33% will be test data and 67 will be training data\n",
    "\n",
    "training, test = train_test_split(reviews, test_size=0.33, random_state=42) \n",
    "\n",
    "print(len(training))\n",
    "print(len(test))\n",
    "print(training[0].text)\n",
    "print(test[0].text)"
   ]
  },
  {
   "cell_type": "markdown",
   "metadata": {},
   "source": [
    "## Training Data"
   ]
  },
  {
   "cell_type": "code",
   "execution_count": 119,
   "metadata": {},
   "outputs": [
    {
     "name": "stdout",
     "output_type": "stream",
     "text": [
      "Olivia Hampton arrives at the Dunraven family home as cataloger of their extensive library. What she doesn't expect is a broken carriage wheel on the way. Nor a young girl whose mind is clearly gone, an old man in need of care himself (and doesn&#8217;t quite seem all there in Olivia&#8217;s opinion). Furthermore, Marion Dunraven, the only sane one of the bunch and the one Olivia is inexplicable drawn to, seems captive to everyone in the dusty old house. More importantly, she doesn't expect to fall in love with Dunraven's daughter Marion.Can Olivia truly believe the stories of sadness and death that surround the house, or are they all just local neighborhood rumor?Was that carriage trouble just a coincidence or a supernatural sign to stay away? If she remains, will the Castle&#8217;s dark shadows take Olivia down with them or will she and Marion long enough to declare their love?Patty G. Henderson has created an atmospheric and intriguing story in her Gothic tale. I found this to be an enjoyable read, even if it isn&#8217;t my usual preferred genre. I think, with this tale, I got hooked on the old Gothic romantic style. So I think fans of the genre (and of lesbian romances) will enjoy it.\n",
      "POSITIVE\n"
     ]
    }
   ],
   "source": [
    "# Training data X and Y axis\n",
    "\n",
    "train_x = [x.text for x in training] # X axis is text or comments\n",
    "train_y = [x.sentiment for x in training] # Y axis is Positive, Negative or Neutral\n",
    "\n",
    "print(train_x[0])\n",
    "print(train_y[0])"
   ]
  },
  {
   "cell_type": "markdown",
   "metadata": {},
   "source": [
    "## Test Data"
   ]
  },
  {
   "cell_type": "code",
   "execution_count": 120,
   "metadata": {},
   "outputs": [
    {
     "name": "stdout",
     "output_type": "stream",
     "text": [
      "was sent an Arc of this book for an honest review and here it is = This is the kind of book that you want to read while sitting in front of the fire with a cup of hot apple cider and a blanket over your legs.I have read many of Jaci Burton's books and have never been disappointed. This first book in her new Hope series does not disappoint either.This is the story of Emma, a new vet who has come back home to open her own practice and Luke McCormack, a police officer in the same town.Both have been previously burned by love so both have issues but, that doesn't stop them from acting on that attraction.This book pulls you in from the first page, wraps you up and doesn't let you go until the end.I loved it!\n",
      "POSITIVE\n"
     ]
    }
   ],
   "source": [
    "test_x = [x.text for x in test]\n",
    "test_y = [x.sentiment for x in test]\n",
    "\n",
    "print(test_x[0])\n",
    "print(test_y[0])"
   ]
  },
  {
   "cell_type": "markdown",
   "metadata": {},
   "source": [
    "## Bag of Words Vectorization (Converts each words in to a vector)"
   ]
  },
  {
   "cell_type": "code",
   "execution_count": 121,
   "metadata": {},
   "outputs": [],
   "source": [
    "from sklearn.feature_extraction.text import CountVectorizer"
   ]
  },
  {
   "cell_type": "markdown",
   "metadata": {},
   "source": [
    "### Training and Test Data Vectorization"
   ]
  },
  {
   "cell_type": "code",
   "execution_count": 122,
   "metadata": {},
   "outputs": [
    {
     "name": "stdout",
     "output_type": "stream",
     "text": [
      "Olivia Hampton arrives at the Dunraven family home as cataloger of their extensive library. What she doesn't expect is a broken carriage wheel on the way. Nor a young girl whose mind is clearly gone, an old man in need of care himself (and doesn&#8217;t quite seem all there in Olivia&#8217;s opinion). Furthermore, Marion Dunraven, the only sane one of the bunch and the one Olivia is inexplicable drawn to, seems captive to everyone in the dusty old house. More importantly, she doesn't expect to fall in love with Dunraven's daughter Marion.Can Olivia truly believe the stories of sadness and death that surround the house, or are they all just local neighborhood rumor?Was that carriage trouble just a coincidence or a supernatural sign to stay away? If she remains, will the Castle&#8217;s dark shadows take Olivia down with them or will she and Marion long enough to declare their love?Patty G. Henderson has created an atmospheric and intriguing story in her Gothic tale. I found this to be an enjoyable read, even if it isn&#8217;t my usual preferred genre. I think, with this tale, I got hooked on the old Gothic romantic style. So I think fans of the genre (and of lesbian romances) will enjoy it.\n",
      "  (0, 8110)\t1\n",
      "  (0, 20236)\t1\n",
      "  (0, 13869)\t1\n",
      "  (0, 8860)\t1\n",
      "  (0, 21943)\t1\n",
      "  (0, 22878)\t1\n",
      "  (0, 20242)\t1\n",
      "  (0, 11454)\t1\n",
      "  (0, 10332)\t1\n",
      "  (0, 23866)\t2\n",
      "  (0, 10038)\t2\n",
      "  (0, 18251)\t1\n",
      "  (0, 25214)\t1\n",
      "  (0, 15895)\t1\n",
      "  (0, 12672)\t1\n",
      "  (0, 12690)\t2\n",
      "  (0, 8407)\t1\n",
      "  (0, 19153)\t1\n",
      "  (0, 8111)\t1\n",
      "  (0, 2468)\t1\n",
      "  (0, 23881)\t2\n",
      "  (0, 9599)\t1\n",
      "  (0, 23387)\t2\n",
      "  (0, 10334)\t2\n",
      "  (0, 11155)\t1\n",
      "  :\t:\n",
      "  (0, 16332)\t1\n",
      "  (0, 25802)\t1\n",
      "  (0, 16683)\t2\n",
      "  (0, 25941)\t1\n",
      "  (0, 3988)\t2\n",
      "  (0, 3476)\t1\n",
      "  (0, 12649)\t3\n",
      "  (0, 8586)\t2\n",
      "  (0, 7185)\t3\n",
      "  (0, 21285)\t4\n",
      "  (0, 25931)\t1\n",
      "  (0, 13949)\t1\n",
      "  (0, 8672)\t1\n",
      "  (0, 23785)\t2\n",
      "  (0, 16595)\t6\n",
      "  (0, 4056)\t1\n",
      "  (0, 1797)\t1\n",
      "  (0, 11407)\t1\n",
      "  (0, 8836)\t1\n",
      "  (0, 7538)\t3\n",
      "  (0, 23767)\t11\n",
      "  (0, 1943)\t1\n",
      "  (0, 1757)\t1\n",
      "  (0, 10770)\t1\n",
      "  (0, 16664)\t5\n",
      "[[0 0 0 ... 0 0 0]]\n"
     ]
    }
   ],
   "source": [
    "vectorizer = CountVectorizer()\n",
    "\n",
    "# Way 1\n",
    "\n",
    "# vectorizer.fit(train_x)\n",
    "# train_x_vectors = vectorizer.transform(train_x)\n",
    "\n",
    "#Way 2\n",
    "\n",
    "train_x_vectors = vectorizer.fit_transform(train_x)\n",
    "\n",
    "# No need to fit test data. Just need to transform.\n",
    "test_x_vectors = vectorizer.transform(test_x)\n",
    "\n",
    "print(train_x[0])\n",
    "print(train_x_vectors[0])\n",
    "print(train_x_vectors[0].toarray())"
   ]
  },
  {
   "cell_type": "markdown",
   "metadata": {},
   "source": [
    "## Classification"
   ]
  },
  {
   "cell_type": "markdown",
   "metadata": {},
   "source": [
    "##### Linear SVM (Support Vector Machine)"
   ]
  },
  {
   "cell_type": "code",
   "execution_count": 123,
   "metadata": {},
   "outputs": [
    {
     "name": "stdout",
     "output_type": "stream",
     "text": [
      "was sent an Arc of this book for an honest review and here it is = This is the kind of book that you want to read while sitting in front of the fire with a cup of hot apple cider and a blanket over your legs.I have read many of Jaci Burton's books and have never been disappointed. This first book in her new Hope series does not disappoint either.This is the story of Emma, a new vet who has come back home to open her own practice and Luke McCormack, a police officer in the same town.Both have been previously burned by love so both have issues but, that doesn't stop them from acting on that attraction.This book pulls you in from the first page, wraps you up and doesn't let you go until the end.I loved it!\n",
      "  (0, 683)\t1\n",
      "  (0, 1295)\t2\n",
      "  (0, 1326)\t5\n",
      "  (0, 1562)\t1\n",
      "  (0, 1624)\t1\n",
      "  (0, 2011)\t1\n",
      "  (0, 2210)\t1\n",
      "  (0, 2543)\t2\n",
      "  (0, 2922)\t1\n",
      "  (0, 3137)\t4\n",
      "  (0, 3161)\t1\n",
      "  (0, 3218)\t2\n",
      "  (0, 3643)\t1\n",
      "  (0, 3655)\t1\n",
      "  (0, 3677)\t1\n",
      "  (0, 3706)\t1\n",
      "  (0, 4520)\t1\n",
      "  (0, 4930)\t1\n",
      "  (0, 5962)\t1\n",
      "  (0, 6910)\t1\n",
      "  (0, 6911)\t1\n",
      "  (0, 7184)\t1\n",
      "  (0, 7185)\t2\n",
      "  (0, 7790)\t1\n",
      "  (0, 7952)\t1\n",
      "  :\t:\n",
      "  (0, 19950)\t1\n",
      "  (0, 20568)\t1\n",
      "  (0, 21061)\t1\n",
      "  (0, 21105)\t1\n",
      "  (0, 21634)\t1\n",
      "  (0, 21943)\t1\n",
      "  (0, 22682)\t1\n",
      "  (0, 22704)\t1\n",
      "  (0, 23758)\t3\n",
      "  (0, 23767)\t6\n",
      "  (0, 23791)\t1\n",
      "  (0, 23881)\t5\n",
      "  (0, 24107)\t2\n",
      "  (0, 24270)\t1\n",
      "  (0, 25107)\t1\n",
      "  (0, 25134)\t1\n",
      "  (0, 25416)\t1\n",
      "  (0, 25697)\t1\n",
      "  (0, 25742)\t1\n",
      "  (0, 25963)\t1\n",
      "  (0, 26005)\t1\n",
      "  (0, 26171)\t1\n",
      "  (0, 26341)\t1\n",
      "  (0, 26504)\t4\n",
      "  (0, 26517)\t1\n"
     ]
    },
    {
     "data": {
      "text/plain": [
       "array(['POSITIVE'], dtype='<U8')"
      ]
     },
     "execution_count": 123,
     "metadata": {},
     "output_type": "execute_result"
    }
   ],
   "source": [
    "from sklearn import svm\n",
    "\n",
    "clf_svm = svm.SVC(kernel=\"linear\")\n",
    "\n",
    "clf_svm.fit(train_x_vectors, train_y)\n",
    "\n",
    "print(test_x[0])\n",
    "print(test_x_vectors[0])\n",
    "\n",
    "clf_svm.predict(test_x_vectors[0])"
   ]
  },
  {
   "cell_type": "markdown",
   "metadata": {},
   "source": [
    "#### SVM Accuracy"
   ]
  },
  {
   "cell_type": "code",
   "execution_count": 125,
   "metadata": {},
   "outputs": [
    {
     "data": {
      "text/plain": [
       "0.8124242424242424"
      ]
     },
     "execution_count": 125,
     "metadata": {},
     "output_type": "execute_result"
    }
   ],
   "source": [
    "clf_svm.score(test_x_vectors, test_y)"
   ]
  },
  {
   "cell_type": "markdown",
   "metadata": {},
   "source": [
    "##### Decision Tree"
   ]
  },
  {
   "cell_type": "code",
   "execution_count": 126,
   "metadata": {},
   "outputs": [
    {
     "data": {
      "text/plain": [
       "array(['POSITIVE'], dtype='<U8')"
      ]
     },
     "execution_count": 126,
     "metadata": {},
     "output_type": "execute_result"
    }
   ],
   "source": [
    "from sklearn.tree import DecisionTreeClassifier\n",
    "\n",
    "clf_dec = DecisionTreeClassifier()\n",
    "\n",
    "clf_dec.fit(train_x_vectors, train_y)\n",
    "\n",
    "clf_dec.predict(test_x_vectors[0])"
   ]
  },
  {
   "cell_type": "markdown",
   "metadata": {},
   "source": [
    "#### Decision Tree Accuracy"
   ]
  },
  {
   "cell_type": "code",
   "execution_count": 127,
   "metadata": {},
   "outputs": [
    {
     "data": {
      "text/plain": [
       "0.7724242424242425"
      ]
     },
     "execution_count": 127,
     "metadata": {},
     "output_type": "execute_result"
    }
   ],
   "source": [
    "clf_dec.score(test_x_vectors, test_y)"
   ]
  },
  {
   "cell_type": "markdown",
   "metadata": {},
   "source": [
    "#### Naive Bayes"
   ]
  },
  {
   "cell_type": "code",
   "execution_count": 128,
   "metadata": {},
   "outputs": [
    {
     "data": {
      "text/plain": [
       "array(['POSITIVE'], dtype='<U8')"
      ]
     },
     "execution_count": 128,
     "metadata": {},
     "output_type": "execute_result"
    }
   ],
   "source": [
    "from sklearn.naive_bayes import GaussianNB\n",
    "\n",
    "clf_gnb = GaussianNB()\n",
    "\n",
    "clf_gnb.fit(train_x_vectors.todense(), train_y) # For NB needs dense array\n",
    "\n",
    "clf_gnb.predict(test_x_vectors.todense()[0])"
   ]
  },
  {
   "cell_type": "markdown",
   "metadata": {},
   "source": [
    "#### Naive Bayes Accuracy"
   ]
  },
  {
   "cell_type": "code",
   "execution_count": 129,
   "metadata": {},
   "outputs": [
    {
     "data": {
      "text/plain": [
       "0.6587878787878788"
      ]
     },
     "execution_count": 129,
     "metadata": {},
     "output_type": "execute_result"
    }
   ],
   "source": [
    "clf_gnb.score(test_x_vectors.todense(), test_y)"
   ]
  },
  {
   "cell_type": "markdown",
   "metadata": {},
   "source": [
    "#### Logistic Regression"
   ]
  },
  {
   "cell_type": "code",
   "execution_count": 130,
   "metadata": {},
   "outputs": [
    {
     "data": {
      "text/plain": [
       "array(['POSITIVE'], dtype='<U8')"
      ]
     },
     "execution_count": 130,
     "metadata": {},
     "output_type": "execute_result"
    }
   ],
   "source": [
    "from sklearn.linear_model import LogisticRegression\n",
    "\n",
    "clf_log = LogisticRegression()\n",
    "\n",
    "clf_log.fit(train_x_vectors, train_y)\n",
    "\n",
    "clf_log.predict(test_x_vectors[0])\n"
   ]
  },
  {
   "cell_type": "markdown",
   "metadata": {},
   "source": [
    "#### Logistic Regression Accuracy"
   ]
  },
  {
   "cell_type": "code",
   "execution_count": 131,
   "metadata": {},
   "outputs": [
    {
     "data": {
      "text/plain": [
       "0.8478787878787879"
      ]
     },
     "execution_count": 131,
     "metadata": {},
     "output_type": "execute_result"
    }
   ],
   "source": [
    "clf_log.score(test_x_vectors, test_y)"
   ]
  },
  {
   "cell_type": "markdown",
   "metadata": {},
   "source": [
    "## Accuracy"
   ]
  },
  {
   "cell_type": "code",
   "execution_count": 132,
   "metadata": {},
   "outputs": [
    {
     "name": "stdout",
     "output_type": "stream",
     "text": [
      "0.8124242424242424\n",
      "0.7724242424242425\n",
      "0.6587878787878788\n",
      "0.8478787878787879\n"
     ]
    }
   ],
   "source": [
    "# Mean Accuracy\n",
    "\n",
    "print(clf_svm.score(test_x_vectors, test_y))\n",
    "print(clf_dec.score(test_x_vectors, test_y))\n",
    "print(clf_gnb.score(test_x_vectors.todense(), test_y))\n",
    "print(clf_log.score(test_x_vectors, test_y))"
   ]
  },
  {
   "cell_type": "markdown",
   "metadata": {},
   "source": [
    "## F1 Score"
   ]
  },
  {
   "cell_type": "code",
   "execution_count": 133,
   "metadata": {},
   "outputs": [
    {
     "name": "stdout",
     "output_type": "stream",
     "text": [
      "[0.40268456 0.2656     0.90738061]\n",
      "[0.90738061 0.2656     0.40268456]\n",
      "[0.87628866 0.17258883 0.17232376]\n",
      "[0.7996939  0.1260745  0.11851852]\n",
      "[0.92493017 0.29714286 0.4092219 ]\n"
     ]
    }
   ],
   "source": [
    "# F1 Score\n",
    "\n",
    "from sklearn.metrics import f1_score\n",
    "\n",
    "print(f1_score(test_y, clf_svm.predict(test_x_vectors), average=None))\n",
    "\n",
    "# SVM for Positive is good but for others its bad using books_small.json. Gets better after using books_big.json\n",
    "print(f1_score(test_y, clf_svm.predict(test_x_vectors), average=None, \n",
    "      labels=[Sentiment.POSITIVE, Sentiment.NEUTRAL, Sentiment.NEGATIVE]))\n",
    "\n",
    "# Decision Tree for Positive is good but for others its bad books_small.json. Gets better after using books_big.json\n",
    "print(f1_score(test_y, clf_dec.predict(test_x_vectors), average=None, \n",
    "      labels=[Sentiment.POSITIVE, Sentiment.NEUTRAL, Sentiment.NEGATIVE]))\n",
    "\n",
    "# Naive Bayes for Positive is good but for others its bad books_small.json. Gets better after using books_big.json\n",
    "print(f1_score(test_y, clf_gnb.predict(test_x_vectors.todense()), average=None, \n",
    "      labels=[Sentiment.POSITIVE, Sentiment.NEUTRAL, Sentiment.NEGATIVE]))\n",
    "\n",
    "# Logistic Regression for Positive is good but for others its bad books_small.json. Gets better after using books_big.json\n",
    "print(f1_score(test_y, clf_log.predict(test_x_vectors.todense()), average=None, \n",
    "      labels=[Sentiment.POSITIVE, Sentiment.NEUTRAL, Sentiment.NEGATIVE]))\n",
    "\n",
    "# It seems like the models are predicting Positive good but others very bad. It could be a model or a data issue.\n",
    "# The model performs better after using books_big.json"
   ]
  },
  {
   "cell_type": "markdown",
   "metadata": {},
   "source": [
    "## Looking at training data to fix the model"
   ]
  },
  {
   "cell_type": "code",
   "execution_count": 135,
   "metadata": {},
   "outputs": [
    {
     "name": "stdout",
     "output_type": "stream",
     "text": [
      "TOTAL: 6700\n",
      "POSITIVE : 5611\n",
      "NEUTRAL : 653\n",
      "NEGATIVE : 436\n"
     ]
    }
   ],
   "source": [
    "print(\"TOTAL: \" + str(len(train_y)))\n",
    "print(\"POSITIVE : \" + str(train_y.count(Sentiment.POSITIVE)))\n",
    "print(\"NEUTRAL : \" + str(train_y.count(Sentiment.NEUTRAL)))\n",
    "print(\"NEGATIVE : \" + str(train_y.count(Sentiment.NEGATIVE)))\n",
    "\n",
    "# As we can see most of our training data has Positive cases than others. "
   ]
  },
  {
   "cell_type": "markdown",
   "metadata": {},
   "source": [
    "## Sample Testing"
   ]
  },
  {
   "cell_type": "code",
   "execution_count": 137,
   "metadata": {},
   "outputs": [
    {
     "name": "stdout",
     "output_type": "stream",
     "text": [
      "['POSITIVE' 'NEGATIVE' 'NEGATIVE']\n",
      "['POSITIVE' 'NEGATIVE' 'NEGATIVE']\n",
      "['POSITIVE' 'POSITIVE' 'NEGATIVE']\n",
      "['NEGATIVE' 'NEGATIVE' 'NEGATIVE']\n"
     ]
    }
   ],
   "source": [
    "test_set = [\"I thoroughly enjoyed this, 5 stars\", \"bad book do not buy\", \"horrible waste of time\"]\n",
    "new_test = vectorizer.transform(test_set)\n",
    "\n",
    "print(clf_svm.predict(new_test))\n",
    "print(clf_log.predict(new_test))\n",
    "print(clf_dec.predict(new_test))\n",
    "print(clf_gnb.predict(new_test.todense()))"
   ]
  },
  {
   "cell_type": "markdown",
   "metadata": {},
   "source": [
    "## Tuning model with Grid Search"
   ]
  },
  {
   "cell_type": "code",
   "execution_count": 140,
   "metadata": {},
   "outputs": [
    {
     "data": {
      "text/plain": [
       "GridSearchCV(cv=5, error_score='raise',\n",
       "       estimator=SVC(C=1.0, cache_size=200, class_weight=None, coef0=0.0,\n",
       "  decision_function_shape='ovr', degree=3, gamma='auto', kernel='rbf',\n",
       "  max_iter=-1, probability=False, random_state=None, shrinking=True,\n",
       "  tol=0.001, verbose=False),\n",
       "       fit_params=None, iid=True, n_jobs=1,\n",
       "       param_grid={'kernel': ('linear', 'rbf'), 'C': (1, 4, 8, 16, 32)},\n",
       "       pre_dispatch='2*n_jobs', refit=True, return_train_score='warn',\n",
       "       scoring=None, verbose=0)"
      ]
     },
     "execution_count": 140,
     "metadata": {},
     "output_type": "execute_result"
    }
   ],
   "source": [
    "from sklearn.model_selection import GridSearchCV\n",
    "\n",
    "parameters = {\n",
    "    \"kernel\": (\"linear\", \"rbf\"), \n",
    "    \"C\": (1, 4, 8, 16, 32)\n",
    "    }\n",
    "\n",
    "svc = svm.SVC()\n",
    "\n",
    "clf_grd = GridSearchCV(svc, parameters, cv=5)\n",
    "\n",
    "clf_grd.fit(train_x_vectors, train_y)"
   ]
  },
  {
   "cell_type": "markdown",
   "metadata": {},
   "source": [
    "## F1 Score"
   ]
  },
  {
   "cell_type": "code",
   "execution_count": 142,
   "metadata": {},
   "outputs": [
    {
     "name": "stdout",
     "output_type": "stream",
     "text": [
      "0.8396969696969697\n"
     ]
    }
   ],
   "source": [
    "print(clf_grd.score(test_x_vectors, test_y))"
   ]
  },
  {
   "cell_type": "markdown",
   "metadata": {},
   "source": [
    "## Saving Model"
   ]
  },
  {
   "cell_type": "code",
   "execution_count": 143,
   "metadata": {},
   "outputs": [],
   "source": [
    "import pickle\n",
    "\n",
    "with open(\"./models/Scikit_Learn_Sentiment_Classifier.pkl\", \"wb\") as f:\n",
    "    pickle.dump(clf_grd, f)"
   ]
  },
  {
   "cell_type": "markdown",
   "metadata": {},
   "source": [
    "## Importing the Model"
   ]
  },
  {
   "cell_type": "code",
   "execution_count": 145,
   "metadata": {},
   "outputs": [
    {
     "name": "stdout",
     "output_type": "stream",
     "text": [
      "was sent an Arc of this book for an honest review and here it is = This is the kind of book that you want to read while sitting in front of the fire with a cup of hot apple cider and a blanket over your legs.I have read many of Jaci Burton's books and have never been disappointed. This first book in her new Hope series does not disappoint either.This is the story of Emma, a new vet who has come back home to open her own practice and Luke McCormack, a police officer in the same town.Both have been previously burned by love so both have issues but, that doesn't stop them from acting on that attraction.This book pulls you in from the first page, wraps you up and doesn't let you go until the end.I loved it!\n",
      "['POSITIVE']\n"
     ]
    }
   ],
   "source": [
    "with open(\"./models/Scikit_Learn_Sentiment_Classifier.pkl\", \"rb\") as f:\n",
    "    loaded_clf = pickle.load(f)\n",
    "\n",
    "print(test_x[0])    \n",
    "print(loaded_clf.predict(test_x_vectors[0]))"
   ]
  },
  {
   "cell_type": "code",
   "execution_count": null,
   "metadata": {},
   "outputs": [],
   "source": []
  }
 ],
 "metadata": {
  "kernelspec": {
   "display_name": "Python 3",
   "language": "python",
   "name": "python3"
  },
  "language_info": {
   "codemirror_mode": {
    "name": "ipython",
    "version": 3
   },
   "file_extension": ".py",
   "mimetype": "text/x-python",
   "name": "python",
   "nbconvert_exporter": "python",
   "pygments_lexer": "ipython3",
   "version": "3.5.6"
  }
 },
 "nbformat": 4,
 "nbformat_minor": 4
}
