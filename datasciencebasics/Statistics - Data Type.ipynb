{
 "cells": [
  {
   "cell_type": "code",
   "execution_count": 2,
   "metadata": {},
   "outputs": [],
   "source": [
    "import numpy as np\n",
    "import pandas as pd\n",
    "import matplotlib.pyplot as plt\n",
    "import scipy.stats as stats\n",
    "%matplotlib inline"
   ]
  },
  {
   "cell_type": "markdown",
   "metadata": {},
   "source": [
    "## Continuous Variable"
   ]
  },
  {
   "cell_type": "code",
   "execution_count": 3,
   "metadata": {},
   "outputs": [
    {
     "data": {
      "text/plain": [
       "[15.428731470377112,\n",
       " 16.264031052357197,\n",
       " 16.49456650400679,\n",
       " 16.703150451495286,\n",
       " 16.759909911405373,\n",
       " 16.834313371050026,\n",
       " 17.107405299100492,\n",
       " 17.140281195352106,\n",
       " 17.50743369876007,\n",
       " 17.557967785284205,\n",
       " 17.676131505695825,\n",
       " 17.727778899726843,\n",
       " 17.74996818728403,\n",
       " 17.75827379507965,\n",
       " 17.79700104554005,\n",
       " 17.930440350262206,\n",
       " 18.098083230453053,\n",
       " 18.137529201630976,\n",
       " 18.253062203854366,\n",
       " 18.270216151590315,\n",
       " 18.363885524998253,\n",
       " 18.390299672373988,\n",
       " 18.42177125285265,\n",
       " 18.70033626394524,\n",
       " 18.71318511561693,\n",
       " 18.755420938611966,\n",
       " 18.77799817027306,\n",
       " 18.82277465320396,\n",
       " 18.887750074805833,\n",
       " 18.9313319503456,\n",
       " 18.992917201368176,\n",
       " 19.035534129749877,\n",
       " 19.03804496869637,\n",
       " 19.09933038276402,\n",
       " 19.12243058778788,\n",
       " 19.185410745571716,\n",
       " 19.187704132459732,\n",
       " 19.24802417540178,\n",
       " 19.338531690795826,\n",
       " 19.35878525262814,\n",
       " 19.38118545822145,\n",
       " 19.411103860691387,\n",
       " 19.445073119167567,\n",
       " 19.465050656465554,\n",
       " 19.526086753453406,\n",
       " 19.54394689451729,\n",
       " 19.619905265513804,\n",
       " 19.651025310870292,\n",
       " 19.709259054631424,\n",
       " 19.760696720939464,\n",
       " 19.764419645985445,\n",
       " 19.768934037395823,\n",
       " 19.78587624844163,\n",
       " 19.86687454187736,\n",
       " 19.880298227408307,\n",
       " 19.916597767799924,\n",
       " 19.990620211692928,\n",
       " 20.0505737118583,\n",
       " 20.052657103502042,\n",
       " 20.07537556437409,\n",
       " 20.101195508426407,\n",
       " 20.11414893623924,\n",
       " 20.11602031773421,\n",
       " 20.183647675530274,\n",
       " 20.278782716873472,\n",
       " 20.29682366581205,\n",
       " 20.32300919084789,\n",
       " 20.415736484787402,\n",
       " 20.439608636200695,\n",
       " 20.450243683744308,\n",
       " 20.622384922768493,\n",
       " 20.646049129064316,\n",
       " 20.666622530032566,\n",
       " 20.681303235057417,\n",
       " 20.702207267551838,\n",
       " 20.74548894225905,\n",
       " 20.797505687179157,\n",
       " 20.872054441482046,\n",
       " 20.88255746653657,\n",
       " 20.897349892453875,\n",
       " 20.900699378467472,\n",
       " 20.948942756153375,\n",
       " 21.02072930798112,\n",
       " 21.070225020259894,\n",
       " 21.15729616217439,\n",
       " 21.164408039928443,\n",
       " 21.456446570605106,\n",
       " 21.470573505267584,\n",
       " 21.61357109247778,\n",
       " 21.82719908828865,\n",
       " 21.86436719999672,\n",
       " 21.972058453692878,\n",
       " 22.313025497209438,\n",
       " 22.348603404451513,\n",
       " 22.492494829395678,\n",
       " 22.751836403462494,\n",
       " 22.759835099231857,\n",
       " 24.042638016142682,\n",
       " 24.10344972247745,\n",
       " 24.827931700912295]"
      ]
     },
     "execution_count": 3,
     "metadata": {},
     "output_type": "execute_result"
    }
   ],
   "source": [
    "mu = 20\n",
    "sigma = 2\n",
    "h = sorted(np.random.normal(mu, sigma, 100)) # Draw a random samples from a normal (Gaussian) distribution\n",
    "h"
   ]
  },
  {
   "cell_type": "code",
   "execution_count": 4,
   "metadata": {},
   "outputs": [
    {
     "data": {
      "text/plain": [
       "True"
      ]
     },
     "execution_count": 4,
     "metadata": {},
     "output_type": "execute_result"
    }
   ],
   "source": [
    "abs(20 - np.mean(h)) < 2 ## Verification"
   ]
  },
  {
   "cell_type": "code",
   "execution_count": 5,
   "metadata": {},
   "outputs": [
    {
     "name": "stderr",
     "output_type": "stream",
     "text": [
      "/Users/gajendrasahu/opt/anaconda3/envs/datascience/lib/python3.5/site-packages/matplotlib/axes/_axes.py:6499: MatplotlibDeprecationWarning: \n",
      "The 'normed' kwarg was deprecated in Matplotlib 2.1 and will be removed in 3.1. Use 'density' instead.\n",
      "  alternative=\"'density'\", removal=\"3.1\")\n"
     ]
    },
    {
     "data": {
      "text/plain": [
       "(array([0.03191761, 0.        , 0.03191761, 0.03191761, 0.09575283,\n",
       "        0.06383522, 0.06383522, 0.19150566, 0.06383522, 0.15958805,\n",
       "        0.15958805, 0.28725848, 0.22342326, 0.28725848, 0.31917609,\n",
       "        0.19150566, 0.22342326, 0.22342326, 0.09575283, 0.09575283,\n",
       "        0.09575283, 0.03191761, 0.06383522, 0.06383522, 0.        ,\n",
       "        0.        , 0.        , 0.06383522, 0.        , 0.03191761]),\n",
       " array([15.42873147, 15.74203814, 16.05534482, 16.36865149, 16.68195817,\n",
       "        16.99526484, 17.30857152, 17.62187819, 17.93518487, 18.24849154,\n",
       "        18.56179821, 18.87510489, 19.18841156, 19.50171824, 19.81502491,\n",
       "        20.12833159, 20.44163826, 20.75494493, 21.06825161, 21.38155828,\n",
       "        21.69486496, 22.00817163, 22.32147831, 22.63478498, 22.94809165,\n",
       "        23.26139833, 23.574705  , 23.88801168, 24.20131835, 24.51462503,\n",
       "        24.8279317 ]),\n",
       " <a list of 30 Patch objects>)"
      ]
     },
     "execution_count": 5,
     "metadata": {},
     "output_type": "execute_result"
    },
    {
     "data": {
      "image/png": "[encoded data removed]",
      "text/plain": [
       "<Figure size 432x288 with 1 Axes>"
      ]
     },
     "metadata": {
      "needs_background": "light"
     },
     "output_type": "display_data"
    }
   ],
   "source": [
    "plt.hist(h, 30, normed=True)"
   ]
  },
  {
   "cell_type": "code",
   "execution_count": 6,
   "metadata": {},
   "outputs": [
    {
     "name": "stderr",
     "output_type": "stream",
     "text": [
      "/Users/gajendrasahu/opt/anaconda3/envs/datascience/lib/python3.5/site-packages/matplotlib/axes/_axes.py:6499: MatplotlibDeprecationWarning: \n",
      "The 'normed' kwarg was deprecated in Matplotlib 2.1 and will be removed in 3.1. Use 'density' instead.\n",
      "  alternative=\"'density'\", removal=\"3.1\")\n"
     ]
    },
    {
     "data": {
      "text/plain": [
       "(array([0.02127841, 0.06383522, 0.10639203, 0.20214486, 0.27661928,\n",
       "        0.21278406, 0.09575283, 0.05319602, 0.        , 0.03191761]),\n",
       " array([15.42873147, 16.36865149, 17.30857152, 18.24849154, 19.18841156,\n",
       "        20.12833159, 21.06825161, 22.00817163, 22.94809165, 23.88801168,\n",
       "        24.8279317 ]),\n",
       " <a list of 10 Patch objects>)"
      ]
     },
     "execution_count": 6,
     "metadata": {},
     "output_type": "execute_result"
    },
    {
     "data": {
      "image/png": "[encoded data removed]",
      "text/plain": [
       "<Figure size 720x360 with 1 Axes>"
      ]
     },
     "metadata": {
      "needs_background": "light"
     },
     "output_type": "display_data"
    }
   ],
   "source": [
    "plt.figure(figsize=(10, 5))\n",
    "fit = stats.norm.pdf(h, np.mean(h), np.std(h))\n",
    "plt.plot(h, fit, \"-o\")\n",
    "plt.hist(h, normed=True)"
   ]
  },
  {
   "cell_type": "markdown",
   "metadata": {},
   "source": [
    "## Discrete Variable"
   ]
  },
  {
   "cell_type": "code",
   "execution_count": 7,
   "metadata": {},
   "outputs": [
    {
     "data": {
      "text/plain": [
       "array([0, 1, 2, 3])"
      ]
     },
     "execution_count": 7,
     "metadata": {},
     "output_type": "execute_result"
    }
   ],
   "source": [
    "np.unique(np.random.randint(0, 4, 100))"
   ]
  },
  {
   "cell_type": "code",
   "execution_count": 8,
   "metadata": {},
   "outputs": [
    {
     "data": {
      "text/plain": [
       "(array([34.,  0.,  0., 23.,  0.,  0., 24.,  0.,  0., 19.]),\n",
       " array([0. , 0.3, 0.6, 0.9, 1.2, 1.5, 1.8, 2.1, 2.4, 2.7, 3. ]),\n",
       " <a list of 10 Patch objects>)"
      ]
     },
     "execution_count": 8,
     "metadata": {},
     "output_type": "execute_result"
    },
    {
     "data": {
      "image/png": "[encoded data removed]",
      "text/plain": [
       "<Figure size 432x288 with 1 Axes>"
      ]
     },
     "metadata": {
      "needs_background": "light"
     },
     "output_type": "display_data"
    }
   ],
   "source": [
    "plt.hist(np.random.randint(0, 4, 100))"
   ]
  },
  {
   "cell_type": "markdown",
   "metadata": {},
   "source": [
    "## Categorical Data: \n",
    "\n",
    "Represents characteristics such as person's Gender, marital status, hometown, etc,."
   ]
  },
  {
   "cell_type": "code",
   "execution_count": 9,
   "metadata": {},
   "outputs": [
    {
     "data": {
      "text/html": [
       "<div>\n",
       "<style scoped>\n",
       "    .dataframe tbody tr th:only-of-type {\n",
       "        vertical-align: middle;\n",
       "    }\n",
       "\n",
       "    .dataframe tbody tr th {\n",
       "        vertical-align: top;\n",
       "    }\n",
       "\n",
       "    .dataframe thead th {\n",
       "        text-align: right;\n",
       "    }\n",
       "</style>\n",
       "<table border=\"1\" class=\"dataframe\">\n",
       "  <thead>\n",
       "    <tr style=\"text-align: right;\">\n",
       "      <th></th>\n",
       "      <th>group</th>\n",
       "      <th>ounces</th>\n",
       "    </tr>\n",
       "  </thead>\n",
       "  <tbody>\n",
       "    <tr>\n",
       "      <th>0</th>\n",
       "      <td>a</td>\n",
       "      <td>4.0</td>\n",
       "    </tr>\n",
       "    <tr>\n",
       "      <th>1</th>\n",
       "      <td>a</td>\n",
       "      <td>3.0</td>\n",
       "    </tr>\n",
       "    <tr>\n",
       "      <th>2</th>\n",
       "      <td>a</td>\n",
       "      <td>12.0</td>\n",
       "    </tr>\n",
       "    <tr>\n",
       "      <th>3</th>\n",
       "      <td>b</td>\n",
       "      <td>6.0</td>\n",
       "    </tr>\n",
       "    <tr>\n",
       "      <th>4</th>\n",
       "      <td>b</td>\n",
       "      <td>7.5</td>\n",
       "    </tr>\n",
       "    <tr>\n",
       "      <th>5</th>\n",
       "      <td>b</td>\n",
       "      <td>8.0</td>\n",
       "    </tr>\n",
       "    <tr>\n",
       "      <th>6</th>\n",
       "      <td>c</td>\n",
       "      <td>3.0</td>\n",
       "    </tr>\n",
       "    <tr>\n",
       "      <th>7</th>\n",
       "      <td>c</td>\n",
       "      <td>5.0</td>\n",
       "    </tr>\n",
       "    <tr>\n",
       "      <th>8</th>\n",
       "      <td>c</td>\n",
       "      <td>6.0</td>\n",
       "    </tr>\n",
       "  </tbody>\n",
       "</table>\n",
       "</div>"
      ],
      "text/plain": [
       "  group  ounces\n",
       "0     a     4.0\n",
       "1     a     3.0\n",
       "2     a    12.0\n",
       "3     b     6.0\n",
       "4     b     7.5\n",
       "5     b     8.0\n",
       "6     c     3.0\n",
       "7     c     5.0\n",
       "8     c     6.0"
      ]
     },
     "execution_count": 9,
     "metadata": {},
     "output_type": "execute_result"
    }
   ],
   "source": [
    "data = pd.DataFrame({\"group\": [\"a\", \"a\", \"a\", \"b\", \"b\", \"b\", \"c\", \"c\", \"c\"], \"ounces\": [4, 3, 12, 6, 7.5, 8, 3, 5, 6]})\n",
    "data"
   ]
  },
  {
   "cell_type": "code",
   "execution_count": 10,
   "metadata": {},
   "outputs": [
    {
     "data": {
      "text/plain": [
       "([array([1., 0., 0., 0., 0., 0., 0., 0., 0., 0.]),\n",
       "  array([1., 0., 0., 0., 0., 0., 0., 0., 0., 0.]),\n",
       "  array([1., 0., 0., 0., 0., 0., 0., 0., 0., 0.]),\n",
       "  array([0., 0., 0., 0., 0., 1., 0., 0., 0., 0.]),\n",
       "  array([0., 0., 0., 0., 0., 1., 0., 0., 0., 0.]),\n",
       "  array([0., 0., 0., 0., 0., 1., 0., 0., 0., 0.]),\n",
       "  array([0., 0., 0., 0., 0., 0., 0., 0., 0., 1.]),\n",
       "  array([0., 0., 0., 0., 0., 0., 0., 0., 0., 1.]),\n",
       "  array([0., 0., 0., 0., 0., 0., 0., 0., 0., 1.])],\n",
       " array([0. , 0.2, 0.4, 0.6, 0.8, 1. , 1.2, 1.4, 1.6, 1.8, 2. ]),\n",
       " <a list of 9 Lists of Patches objects>)"
      ]
     },
     "execution_count": 10,
     "metadata": {},
     "output_type": "execute_result"
    },
    {
     "data": {
      "image/png": "[encoded data removed]",
      "text/plain": [
       "<Figure size 432x288 with 1 Axes>"
      ]
     },
     "metadata": {
      "needs_background": "light"
     },
     "output_type": "display_data"
    }
   ],
   "source": [
    "plt.hist(data.group)"
   ]
  },
  {
   "cell_type": "markdown",
   "metadata": {},
   "source": [
    "## Categorical Data:\n",
    "Data that can be seperated into discrete categories"
   ]
  },
  {
   "cell_type": "code",
   "execution_count": 11,
   "metadata": {},
   "outputs": [
    {
     "data": {
      "text/html": [
       "<div>\n",
       "<style scoped>\n",
       "    .dataframe tbody tr th:only-of-type {\n",
       "        vertical-align: middle;\n",
       "    }\n",
       "\n",
       "    .dataframe tbody tr th {\n",
       "        vertical-align: top;\n",
       "    }\n",
       "\n",
       "    .dataframe thead th {\n",
       "        text-align: right;\n",
       "    }\n",
       "</style>\n",
       "<table border=\"1\" class=\"dataframe\">\n",
       "  <thead>\n",
       "    <tr style=\"text-align: right;\">\n",
       "      <th></th>\n",
       "      <th>group</th>\n",
       "      <th>ounces</th>\n",
       "      <th>rating</th>\n",
       "    </tr>\n",
       "  </thead>\n",
       "  <tbody>\n",
       "    <tr>\n",
       "      <th>0</th>\n",
       "      <td>a</td>\n",
       "      <td>4.0</td>\n",
       "      <td>3</td>\n",
       "    </tr>\n",
       "    <tr>\n",
       "      <th>1</th>\n",
       "      <td>a</td>\n",
       "      <td>3.0</td>\n",
       "      <td>3</td>\n",
       "    </tr>\n",
       "    <tr>\n",
       "      <th>2</th>\n",
       "      <td>a</td>\n",
       "      <td>12.0</td>\n",
       "      <td>4</td>\n",
       "    </tr>\n",
       "    <tr>\n",
       "      <th>3</th>\n",
       "      <td>b</td>\n",
       "      <td>6.0</td>\n",
       "      <td>1</td>\n",
       "    </tr>\n",
       "    <tr>\n",
       "      <th>4</th>\n",
       "      <td>b</td>\n",
       "      <td>7.5</td>\n",
       "      <td>4</td>\n",
       "    </tr>\n",
       "    <tr>\n",
       "      <th>5</th>\n",
       "      <td>b</td>\n",
       "      <td>8.0</td>\n",
       "      <td>2</td>\n",
       "    </tr>\n",
       "    <tr>\n",
       "      <th>6</th>\n",
       "      <td>c</td>\n",
       "      <td>3.0</td>\n",
       "      <td>4</td>\n",
       "    </tr>\n",
       "    <tr>\n",
       "      <th>7</th>\n",
       "      <td>c</td>\n",
       "      <td>5.0</td>\n",
       "      <td>2</td>\n",
       "    </tr>\n",
       "    <tr>\n",
       "      <th>8</th>\n",
       "      <td>c</td>\n",
       "      <td>6.0</td>\n",
       "      <td>3</td>\n",
       "    </tr>\n",
       "  </tbody>\n",
       "</table>\n",
       "</div>"
      ],
      "text/plain": [
       "  group  ounces  rating\n",
       "0     a     4.0       3\n",
       "1     a     3.0       3\n",
       "2     a    12.0       4\n",
       "3     b     6.0       1\n",
       "4     b     7.5       4\n",
       "5     b     8.0       2\n",
       "6     c     3.0       4\n",
       "7     c     5.0       2\n",
       "8     c     6.0       3"
      ]
     },
     "execution_count": 11,
     "metadata": {},
     "output_type": "execute_result"
    }
   ],
   "source": [
    "# Adding a new column to above dataset\n",
    "data[\"rating\"] = np.random.randint(0, 5, 9)\n",
    "data"
   ]
  },
  {
   "cell_type": "code",
   "execution_count": 12,
   "metadata": {},
   "outputs": [
    {
     "data": {
      "text/plain": [
       "([<matplotlib.patches.Wedge at 0x7ff166b6e438>,\n",
       "  <matplotlib.patches.Wedge at 0x7ff166b6edd8>,\n",
       "  <matplotlib.patches.Wedge at 0x7ff166b777b8>],\n",
       " [Text(0.5036221940971336, 0.9779389989221154, 'a'),\n",
       "  Text(-1.1505017980955738, -0.3410947266945822, 'b'),\n",
       "  Text(0.7608233961924185, -0.7944480850289933, 'c')],\n",
       " [Text(0.27470301496207283, 0.5334212721393357, '34%'),\n",
       "  Text(-0.6711260488890847, -0.1989719239051729, '39%'),\n",
       "  Text(0.4149945797413191, -0.43333531910672357, '25%')])"
      ]
     },
     "execution_count": 12,
     "metadata": {},
     "output_type": "execute_result"
    },
    {
     "data": {
      "image/png": "[encoded data removed]",
      "text/plain": [
       "<Figure size 432x288 with 1 Axes>"
      ]
     },
     "metadata": {},
     "output_type": "display_data"
    }
   ],
   "source": [
    "data_pie = data.groupby([\"group\"], axis=0)[\"ounces\"].sum()\n",
    "plt.pie(np.array(data_pie), labels=(\"a\", \"b\", \"c\"), explode=(0, 0.1, 0), shadow=True, autopct=\"%d%%\")"
   ]
  },
  {
   "cell_type": "markdown",
   "metadata": {},
   "source": [
    "## Nominal or Ordinal Data\n",
    "Nominal data is a group of non-parametric variables, while Ordinal data is a group of non-parametric ordered variables. Although, they are both non-parametric variables, what differentiates them is the fact that ordinal data is placed into some kind of order by their position."
   ]
  },
  {
   "cell_type": "code",
   "execution_count": 13,
   "metadata": {},
   "outputs": [
    {
     "data": {
      "text/plain": [
       "<matplotlib.axes._subplots.AxesSubplot at 0x7ff16352a940>"
      ]
     },
     "execution_count": 13,
     "metadata": {},
     "output_type": "execute_result"
    },
    {
     "data": {
      "image/png": "[encoded data removed]",
      "text/plain": [
       "<Figure size 432x288 with 1 Axes>"
      ]
     },
     "metadata": {
      "needs_background": "light"
     },
     "output_type": "display_data"
    }
   ],
   "source": [
    "data.plot.bar(stacked=True)"
   ]
  },
  {
   "cell_type": "code",
   "execution_count": null,
   "metadata": {},
   "outputs": [],
   "source": []
  }
 ],
 "metadata": {
  "kernelspec": {
   "display_name": "Python 3",
   "language": "python",
   "name": "python3"
  }
 },
 "nbformat": 4,
 "nbformat_minor": 4
}
