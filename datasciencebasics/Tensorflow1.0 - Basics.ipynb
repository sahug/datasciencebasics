{
 "cells": [
  {
   "cell_type": "code",
   "execution_count": 1,
   "metadata": {},
   "outputs": [],
   "source": [
    "import tensorflow as tf"
   ]
  },
  {
   "cell_type": "markdown",
   "metadata": {},
   "source": [
    "## Building a Computational Graph"
   ]
  },
  {
   "cell_type": "markdown",
   "metadata": {},
   "source": [
    "## Constants"
   ]
  },
  {
   "cell_type": "code",
   "execution_count": 2,
   "metadata": {},
   "outputs": [
    {
     "name": "stdout",
     "output_type": "stream",
     "text": [
      "30.0\n"
     ]
    }
   ],
   "source": [
    " # Launch the graph in a session.\n",
    "with tf.Session() as sess:\n",
    "    # Build a graph.\n",
    "    a = tf.constant(5.0)\n",
    "    b = tf.constant(6.0)\n",
    "    c = a * b\n",
    "\n",
    "    # Evaluate the tensor `c`.\n",
    "    print(sess.run(c))"
   ]
  },
  {
   "cell_type": "markdown",
   "metadata": {},
   "source": [
    "## Placeholder"
   ]
  },
  {
   "cell_type": "code",
   "execution_count": 3,
   "metadata": {},
   "outputs": [
    {
     "name": "stdout",
     "output_type": "stream",
     "text": [
      "Multiplying a b: [ 2. 12.]\n"
     ]
    }
   ],
   "source": [
    "with tf.Session() as sess:\n",
    "    \n",
    "    # Creating placeholders\n",
    "    a = tf.placeholder(tf.float32)\n",
    "    b = tf.placeholder(tf.float32)\n",
    "\n",
    "    # Assigning multiplication operation w.r.t. a &amp; b to node mul\n",
    "    mul = a*b\n",
    "\n",
    "    # Executing mul by passing the values [1, 3] [2, 4] for a and b respectively\n",
    "    output = sess.run(mul, {a: [1,3], b: [2, 4]})\n",
    "    print('Multiplying a b:', output)"
   ]
  },
  {
   "cell_type": "markdown",
   "metadata": {},
   "source": [
    "## Variable"
   ]
  },
  {
   "cell_type": "code",
   "execution_count": 4,
   "metadata": {},
   "outputs": [
    {
     "name": "stdout",
     "output_type": "stream",
     "text": [
      "[0.         0.3        0.6        0.90000004]\n",
      "23.66\n"
     ]
    }
   ],
   "source": [
    "with tf.Session() as sess:\n",
    "    w = tf.Variable( [0.3], dtype = tf.float32 )\n",
    "    b = tf.Variable( [-0.3], dtype = tf.float32 )\n",
    "    x = tf.placeholder(tf.float32)\n",
    "    \n",
    "    linear_model = w*x + b\n",
    "    \n",
    "    init = tf.global_variables_initializer()\n",
    "    \n",
    "    sess.run(init)\n",
    "    \n",
    "    print(sess.run(linear_model, {x:[1, 2, 3, 4]}))\n",
    "    \n",
    "    # Calculating loss\n",
    "    \n",
    "    y = tf.placeholder(tf.float32)\n",
    "    \n",
    "    squared_deltas = tf.square(linear_model - y)\n",
    "    \n",
    "    loss = tf.reduce_sum(squared_deltas)\n",
    "    \n",
    "    print(sess.run(loss, {x:[1, 2, 3, 4], y:[0, -1, -2, -3]}))"
   ]
  },
  {
   "cell_type": "code",
   "execution_count": 5,
   "metadata": {},
   "outputs": [
    {
     "name": "stdout",
     "output_type": "stream",
     "text": [
      "[array([-0.9999969], dtype=float32), array([0.9999908], dtype=float32)]\n"
     ]
    }
   ],
   "source": [
    "with tf.Session() as sess:\n",
    "    \n",
    "    w = tf.Variable( [0.3], dtype = tf.float32 )\n",
    "    b = tf.Variable( [-0.3], dtype = tf.float32 )\n",
    "    x = tf.placeholder(tf.float32)\n",
    "    \n",
    "    linear_model = w*x + b\n",
    "    \n",
    "    init = tf.global_variables_initializer()\n",
    "    \n",
    "    # Calculating loss\n",
    "    \n",
    "    y = tf.placeholder(tf.float32)\n",
    "    \n",
    "    squared_deltas = tf.square(linear_model - y)\n",
    "    \n",
    "    loss = tf.reduce_sum(squared_deltas)\n",
    "    \n",
    "    # Loss 23.66 is very high so trying to minimize the loss using optimizer\n",
    "    \n",
    "    loss = tf.reduce_sum(squared_deltas)\n",
    "\n",
    "    optimizer = tf.train.GradientDescentOptimizer(0.01)\n",
    "    \n",
    "    train = optimizer.minimize(loss)\n",
    "    \n",
    "    sess.run(init)\n",
    "    \n",
    "    for i in range(1000):\n",
    "        sess.run(train, {x:[1, 2, 3, 4], y:[0, -1, -2, -3]})\n",
    "    \n",
    "    print(sess.run([w, b]))"
   ]
  },
  {
   "cell_type": "markdown",
   "metadata": {},
   "source": [
    "## Example Constanst"
   ]
  },
  {
   "cell_type": "code",
   "execution_count": 6,
   "metadata": {},
   "outputs": [
    {
     "name": "stdout",
     "output_type": "stream",
     "text": [
      "5\n"
     ]
    }
   ],
   "source": [
    "with tf.Session() as sess:\n",
    "    a = tf.constant(5)\n",
    "    b = tf.constant(2)\n",
    "    c = tf.constant(3)\n",
    "\n",
    "    d = tf.multiply(a, b)\n",
    "    e = tf.add(c, b)\n",
    "    f = tf.subtract(d, e)\n",
    "\n",
    "    outs = sess.run(f)\n",
    "    print(outs)"
   ]
  },
  {
   "cell_type": "code",
   "execution_count": null,
   "metadata": {},
   "outputs": [],
   "source": []
  },
  {
   "cell_type": "code",
   "execution_count": null,
   "metadata": {},
   "outputs": [],
   "source": []
  }
 ],
 "metadata": {
  "kernelspec": {
   "display_name": "Python 3",
   "language": "python",
   "name": "python3"
  },
  "language_info": {
   "codemirror_mode": {
    "name": "ipython",
    "version": 3
   },
   "file_extension": ".py",
   "mimetype": "text/x-python",
   "name": "python",
   "nbconvert_exporter": "python",
   "pygments_lexer": "ipython3",
   "version": "3.5.6"
  }
 },
 "nbformat": 4,
 "nbformat_minor": 4
}
