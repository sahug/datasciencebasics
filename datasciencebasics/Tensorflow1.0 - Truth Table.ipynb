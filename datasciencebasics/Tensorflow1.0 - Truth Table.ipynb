{
 "cells": [
  {
   "cell_type": "code",
   "execution_count": 69,
   "metadata": {},
   "outputs": [],
   "source": [
    "import tensorflow as tf"
   ]
  },
  {
   "cell_type": "code",
   "execution_count": 70,
   "metadata": {},
   "outputs": [
    {
     "name": "stdout",
     "output_type": "stream",
     "text": [
      "epoch:  1 mse 3.0\n",
      "epoch:  2 mse 0.0\n"
     ]
    }
   ],
   "source": [
    "with tf.Session() as sess:\n",
    "    \n",
    "    T, F = 1., -1\n",
    "    \n",
    "    bias = 1.\n",
    "    \n",
    "    train_in = [\n",
    "        [T, T, bias],\n",
    "        [T, F, bias],\n",
    "        [F, T, bias],\n",
    "        [F, F, bias]\n",
    "    ]\n",
    "    \n",
    "    # Output will be if any value is false the output will be False\n",
    "    train_out = [\n",
    "        [T],\n",
    "        [F],\n",
    "        [F],\n",
    "        [F]\n",
    "    ]\n",
    "    \n",
    "    def step(x):\n",
    "        is_greater = tf.greater(x, 0)\n",
    "        as_float = tf.to_float(is_greater)\n",
    "        doubled = tf.multiply(as_float, 2)\n",
    "        return tf.subtract(doubled, 1)\n",
    "\n",
    "    w = tf.Variable(tf.random_normal([3, 1]))\n",
    "    \n",
    "    sess.run(tf.global_variables_initializer())\n",
    "    \n",
    "    output = step(tf.matmul(train_in, w))\n",
    "    \n",
    "    error = tf.subtract(train_out, output)\n",
    "    \n",
    "    mean_sq = tf.reduce_mean(tf.square(error))\n",
    "    \n",
    "    delta = tf.matmul(train_in, error, transpose_a=True)\n",
    "    \n",
    "    train = tf.assign(w, tf.add(w, delta))\n",
    "    \n",
    "    # Target is to minimize th error to 0\n",
    "    err, target = 1, 0\n",
    "    \n",
    "    epoch, max_epoch = 0, 10\n",
    "    \n",
    "    while err>target and epoch<max_epoch:\n",
    "        epoch += 1\n",
    "        err, _ = sess.run([mean_sq, train])\n",
    "        print(\"epoch: \", epoch, \"mse\", err)\n",
    "    "
   ]
  },
  {
   "cell_type": "code",
   "execution_count": null,
   "metadata": {},
   "outputs": [],
   "source": []
  }
 ],
 "metadata": {
  "kernelspec": {
   "display_name": "Python 3",
   "language": "python",
   "name": "python3"
  },
  "language_info": {
   "codemirror_mode": {
    "name": "ipython",
    "version": 3
   },
   "file_extension": ".py",
   "mimetype": "text/x-python",
   "name": "python",
   "nbconvert_exporter": "python",
   "pygments_lexer": "ipython3",
   "version": "3.5.6"
  }
 },
 "nbformat": 4,
 "nbformat_minor": 4
}
