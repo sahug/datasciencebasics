{
 "cells": [
  {
   "cell_type": "code",
   "execution_count": 1,
   "metadata": {},
   "outputs": [
    {
     "name": "stdout",
     "output_type": "stream",
     "text": [
      "[['Green', 3, 'Mango'], ['Yellow', 3, 'Mango'], ['Red', 1, 'Grape'], ['Red', 1, 'Grape'], ['Yellow', 3, 'Lemon']]\n"
     ]
    }
   ],
   "source": [
    "training_data = [\n",
    "    [\"Green\", 3, \"Mango\"],\n",
    "    [\"Yellow\", 3, \"Mango\"],\n",
    "    [\"Red\", 1, \"Grape\"],\n",
    "    [\"Red\", 1, \"Grape\"],\n",
    "    [\"Yellow\", 3, \"Lemon\"],\n",
    "]\n",
    "print(training_data)"
   ]
  },
  {
   "cell_type": "code",
   "execution_count": 2,
   "metadata": {},
   "outputs": [
    {
     "name": "stdout",
     "output_type": "stream",
     "text": [
      "['color', 'diameter', 'label']\n"
     ]
    }
   ],
   "source": [
    "# Column Labels.\n",
    "# These are used to pront the tree.\n",
    "header = [\"color\", \"diameter\", \"label\"]\n",
    "print(header)"
   ]
  },
  {
   "cell_type": "code",
   "execution_count": 3,
   "metadata": {},
   "outputs": [],
   "source": [
    "def unique_vals(rows, col):\n",
    "    \"\"\"find the unique values for a coulmn in dataset.\"\"\"\n",
    "    return set([row[col] for row in rows])"
   ]
  },
  {
   "cell_type": "code",
   "execution_count": 4,
   "metadata": {},
   "outputs": [
    {
     "name": "stdout",
     "output_type": "stream",
     "text": [
      "{'Yellow', 'Green', 'Red'}\n"
     ]
    }
   ],
   "source": [
    "print(unique_vals(training_data, 0))"
   ]
  },
  {
   "cell_type": "code",
   "execution_count": 5,
   "metadata": {},
   "outputs": [
    {
     "name": "stdout",
     "output_type": "stream",
     "text": [
      "{1, 3}\n"
     ]
    }
   ],
   "source": [
    "print(unique_vals(training_data, 1))"
   ]
  },
  {
   "cell_type": "code",
   "execution_count": 6,
   "metadata": {},
   "outputs": [],
   "source": [
    "def class_count(rows):\n",
    "    \"\"\"Counts the number of each type of example in a dataset.\"\"\"\n",
    "    counts = {}\n",
    "    for row in rows:\n",
    "        # In our dataset format, the labesl is alwasy the last column.\n",
    "        label = row[-1]\n",
    "        if label not in counts:\n",
    "            counts[label] = 0\n",
    "        counts[label] += 1\n",
    "    return counts"
   ]
  },
  {
   "cell_type": "code",
   "execution_count": 7,
   "metadata": {},
   "outputs": [
    {
     "data": {
      "text/plain": [
       "{'Mango': 2, 'Grape': 2, 'Lemon': 1}"
      ]
     },
     "execution_count": 7,
     "metadata": {},
     "output_type": "execute_result"
    }
   ],
   "source": [
    "class_count(training_data)"
   ]
  },
  {
   "cell_type": "code",
   "execution_count": 8,
   "metadata": {},
   "outputs": [],
   "source": [
    "def is_numeric(value):\n",
    "    \"\"\"Test if a value is numeric.\"\"\"\n",
    "    return isinstance(value, int) or isinstance(value, float)"
   ]
  },
  {
   "cell_type": "code",
   "execution_count": 9,
   "metadata": {},
   "outputs": [
    {
     "data": {
      "text/plain": [
       "True"
      ]
     },
     "execution_count": 9,
     "metadata": {},
     "output_type": "execute_result"
    }
   ],
   "source": [
    "is_numeric(7)"
   ]
  },
  {
   "cell_type": "code",
   "execution_count": 10,
   "metadata": {},
   "outputs": [
    {
     "data": {
      "text/plain": [
       "False"
      ]
     },
     "execution_count": 10,
     "metadata": {},
     "output_type": "execute_result"
    }
   ],
   "source": [
    "is_numeric(\"Red\")"
   ]
  },
  {
   "cell_type": "code",
   "execution_count": 11,
   "metadata": {},
   "outputs": [],
   "source": [
    "class Question:\n",
    "    \"\"\"\n",
    "    A Question is used to partition a dataset.\n",
    "    This class just records a 'column number' (e.g., 0 for color) and a \n",
    "    'column value' (e.g., Green). The 'match' method is used to compare \n",
    "    the feature value in an example to the feature value stored in the question.\n",
    "    \"\"\"\n",
    "    \n",
    "    def __init__(self, column, value):\n",
    "        self.column = column\n",
    "        self.value = value\n",
    "        \n",
    "    def match(self, example):\n",
    "        # Compare the feature value in example to feature value in this question\n",
    "        val = example[self.column]\n",
    "        if is_numeric(val):\n",
    "            return val >= self.value\n",
    "        else:\n",
    "            return val == self.value\n",
    "        \n",
    "    def __repr__(self):\n",
    "        # This is just a method to print the question in a readable format.\n",
    "        condition = \"==\"\n",
    "        if is_numeric(self.value):\n",
    "            condition = \">=\"\n",
    "        return \"Is %s %s %s?\" % (header[self.column], condition, str(self.value))\n",
    "    "
   ]
  },
  {
   "cell_type": "code",
   "execution_count": 12,
   "metadata": {},
   "outputs": [
    {
     "name": "stdout",
     "output_type": "stream",
     "text": [
      "[['Red', 1, 'Grape'], ['Red', 1, 'Grape']]\n",
      "[['Green', 3, 'Mango'], ['Yellow', 3, 'Mango'], ['Yellow', 3, 'Lemon']]\n"
     ]
    }
   ],
   "source": [
    "def partition(rows, question):\n",
    "    \"\"\"\n",
    "    Partitions a dataset.\n",
    "\n",
    "    For each row in the dataset, check if it matches the question.\n",
    "    If so, add it to 'true rows', otherwise add it to 'false rows'\n",
    "    \"\"\"\n",
    "    true_rows, false_rows = [], []\n",
    "    for row in rows:\n",
    "        if question.match(row):\n",
    "            true_rows.append(row)\n",
    "        else:\n",
    "            false_rows.append(row)\n",
    "    return true_rows, false_rows\n",
    "\n",
    "######\n",
    "# Demo:\n",
    "# Lets partition the training data based on whether rows are Red\n",
    "######\n",
    "    \n",
    "true_rows, false_rows = partition(training_data, Question(0, 'Red'))\n",
    "print(true_rows)\n",
    "print(false_rows)"
   ]
  },
  {
   "cell_type": "code",
   "execution_count": 13,
   "metadata": {},
   "outputs": [
    {
     "name": "stdout",
     "output_type": "stream",
     "text": [
      "0.0\n",
      "0.7999999999999998\n"
     ]
    }
   ],
   "source": [
    "def gini(rows):\n",
    "    \"\"\"\n",
    "    Calculate the Gini Impurity for a list of rows.\n",
    "    \n",
    "    There are few different ways to do it. This is the most concise. \n",
    "    https://en.wikipedia.org/wiki/Decision_tree_learning#Gini_impurity\n",
    "    \"\"\"\n",
    "    counts = class_count(rows)\n",
    "    impurity = 1\n",
    "    for lbl in counts:\n",
    "        prob_of_lbl = counts[lbl] / float(len(rows))\n",
    "        impurity -= prob_of_lbl**2\n",
    "    return impurity\n",
    "\n",
    "#####\n",
    "# Demo:\n",
    "#\n",
    "# First, we'll look at a dataset with no mixing.\n",
    "no_mixing = [[\"Mango\"], [\"Mango\"]]\n",
    "print(gini(no_mixing))\n",
    "\n",
    "# Now, we'll look at a dataset with lot of mixing.\n",
    "lot_of_mixing = [[\"Mango\"], [\"Apple\"], [\"Kiwi\"], [\"Blueberry\"], [\"Cranberry\"]]\n",
    "print(gini(lot_of_mixing))"
   ]
  },
  {
   "cell_type": "code",
   "execution_count": 14,
   "metadata": {},
   "outputs": [
    {
     "name": "stdout",
     "output_type": "stream",
     "text": [
      "0.6399999999999999\n",
      "3.1399999999999997\n",
      "1.9733333333333334\n"
     ]
    }
   ],
   "source": [
    "def info_gain(left, right, current_uncertainty):\n",
    "    \"\"\"\n",
    "    Information Gain - The uncertainty of the starting node, minus the weighted impurity of two child nodes.\n",
    "    \"\"\"\n",
    "    \n",
    "    p = float(len(left) / len(left) + len(right))\n",
    "    return current_uncertainty - p * gini(left) - (1 - p) * gini(right)\n",
    "\n",
    "#####\n",
    "# Demo:\n",
    "\n",
    "# Calculate the uncertainty of our trained data.\n",
    "current_uncertainty = gini(training_data)\n",
    "print(current_uncertainty)\n",
    "\n",
    "# How much information we gain by partitioning on 'Green'?\n",
    "true_rows, false_rows = partition(training_data, Question(0, 'Green'))\n",
    "information_gain = info_gain(true_rows, false_rows, current_uncertainty)\n",
    "print(information_gain)\n",
    "\n",
    "# How much information we gain by partitioning on 'Red'?\n",
    "true_rows, false_rows = partition(training_data, Question(0, 'Red'))\n",
    "information_gain = info_gain(true_rows, false_rows, current_uncertainty)\n",
    "print(information_gain)\n",
    "\n"
   ]
  },
  {
   "cell_type": "code",
   "execution_count": 15,
   "metadata": {},
   "outputs": [
    {
     "name": "stdout",
     "output_type": "stream",
     "text": [
      "3.1399999999999997\n",
      "Is color == Green?\n"
     ]
    }
   ],
   "source": [
    "def find_best_split(rows):\n",
    "    \"\"\"\n",
    "    Find the best question to ask by iterating over every feature/value and calculating the information gain.\n",
    "    \"\"\"\n",
    "    best_gain = 0 # Keep track of the best information gain\n",
    "    best_question = None # Keep track of the feature / value that produced it\n",
    "    current_uncertainty = gini(rows)\n",
    "    n_features = len(rows[0]) - 1 # Number of columns\n",
    "    \n",
    "    for col in range(n_features): # For each feature\n",
    "        \n",
    "        values = set([row[col] for row in rows]) # Unique values in the column\n",
    "        \n",
    "        for val in values: # For each value\n",
    "            \n",
    "            question = Question(col, val)\n",
    "            \n",
    "            # Try splitting the dataset\n",
    "            true_rows, false_rows = partition(rows, question)\n",
    "            \n",
    "            # Skip this split of it doesn't divide the dataset\n",
    "            if len(true_rows) == 0 or len(false_rows) == 0:\n",
    "                continue\n",
    "                \n",
    "            # Calculate the information gain from this split\n",
    "            gain = info_gain(true_rows, false_rows, current_uncertainty)\n",
    "            \n",
    "            # We can actually use '>' instead of '>=' here\n",
    "            if gain >= best_gain:\n",
    "                best_gain, best_question = gain, question\n",
    "    \n",
    "    return best_gain, best_question\n",
    "    \n",
    "best_gain, best_question = find_best_split(training_data)\n",
    "print(best_gain)\n",
    "print(best_question)"
   ]
  },
  {
   "cell_type": "code",
   "execution_count": 16,
   "metadata": {},
   "outputs": [],
   "source": [
    "class Leaf:\n",
    "    \"\"\"\n",
    "    A Leaf node classifies data.\n",
    "    This holds a dictionary of class (e.g., 'Apple') -> number of times\n",
    "    it appears in the rows from the training data that reach this leaf.\n",
    "    \"\"\"\n",
    "    \n",
    "    def __init__(self, rows):\n",
    "        self.predictions = class_count(rows)"
   ]
  },
  {
   "cell_type": "code",
   "execution_count": 17,
   "metadata": {},
   "outputs": [],
   "source": [
    "class Decision_Node:\n",
    "    \"\"\"\n",
    "    A Decision Node asks a question.\n",
    "    This holds a reference to the question, and to the two child nodes.\n",
    "    \"\"\"\n",
    "    \n",
    "    def __init__(self, question, true_branch, false_branch):\n",
    "        self.question = question\n",
    "        self.true_branch = true_branch\n",
    "        self.false_branch = false_branch        "
   ]
  },
  {
   "cell_type": "code",
   "execution_count": 18,
   "metadata": {},
   "outputs": [],
   "source": [
    "def build_tree(rows):\n",
    "    \"\"\"\n",
    "    Builds the tree.\n",
    "    \n",
    "    Rules of recursion \n",
    "    1) Believe that it works. \n",
    "    2) Start by checking fpr the base case (no further information gain).    \n",
    "    \"\"\"\n",
    "    \n",
    "    # Try partitioning the dataset on each of the unique attribute,\n",
    "    # Calculate the information gain,\n",
    "    # And return the question that produces the higehest information gain\n",
    "    gain, question = find_best_split(rows)\n",
    "    \n",
    "    # Base case: no further info gain.\n",
    "    # Since we can ask no further questions we'll return a leaf\n",
    "    if gain == 0:\n",
    "        return Leaf(rows)\n",
    "    \n",
    "    # If we reach here, we have found a useful feature / value to partition on.\n",
    "    true_rows, false_rows = partition(rows, question)\n",
    "    \n",
    "    # Recursively build the true branch\n",
    "    true_branch = build_tree(true_rows)\n",
    "\n",
    "    # Recursively build the false branch\n",
    "    false_branch = build_tree(false_rows)\n",
    "    \n",
    "    # Return a Question node.\n",
    "    # This records the best feature / value to ask at this point, as well as the branches to follow\n",
    "    # depending on the answer\n",
    "    \n",
    "    return Decision_Node(question, true_branch, false_branch)"
   ]
  },
  {
   "cell_type": "code",
   "execution_count": 19,
   "metadata": {},
   "outputs": [],
   "source": [
    "def print_tree(node, spacing=\"\"):\n",
    "    \"\"\"World's most elegant tree printing function\"\"\"\n",
    "    \n",
    "    # Base case: we've reached a leaf\n",
    "    if isinstance(node, Leaf):\n",
    "        print(spacing + \"Predict\", node.predictions)\n",
    "        return\n",
    "    \n",
    "    # Print the question at this point\n",
    "    print(spacing + str(node.question))\n",
    "    \n",
    "    # Call this function recursively on the true branch\n",
    "    print(spacing + \"--> True:\")\n",
    "    print_tree(node.true_branch, spacing + \"  \")\n",
    "    \n",
    "    # Call this function recursively on the false branch\n",
    "    print(spacing + \"--> False:\")\n",
    "    print_tree(node.false_branch, spacing + \"  \")    "
   ]
  },
  {
   "cell_type": "code",
   "execution_count": 20,
   "metadata": {},
   "outputs": [
    {
     "name": "stdout",
     "output_type": "stream",
     "text": [
      "<__main__.Decision_Node object at 0x7f9145c51d60>\n",
      "{'Mango': 1}\n"
     ]
    }
   ],
   "source": [
    "def classify(row, node):\n",
    "    \n",
    "    # Base case: we've reached a leaf\n",
    "    if isinstance(node, Leaf):\n",
    "        return node.predictions\n",
    "    \n",
    "    # Decide whether to follow the true-branch or the false-branch.\n",
    "    # Compare the feature / value stored in the node to the example we're considering\n",
    "    if node.question.match(row):\n",
    "        return classify(row, node.true_branch)\n",
    "    else:\n",
    "        return classify(row, node.false_branch)\n",
    "\n",
    "my_tree = build_tree(training_data)\n",
    "my_classification = classify(training_data[0], my_tree)\n",
    "\n",
    "print(my_tree)\n",
    "print(my_classification)"
   ]
  },
  {
   "cell_type": "code",
   "execution_count": 24,
   "metadata": {},
   "outputs": [
    {
     "name": "stdout",
     "output_type": "stream",
     "text": [
      "{'Mango': '100%'}\n",
      "{'Mango': '50%', 'Lemon': '50%'}\n"
     ]
    }
   ],
   "source": [
    "def print_leaf(counts):\n",
    "    \"\"\"Print the predictions at a leaf.\"\"\"\n",
    "    total = sum(counts.values()) * 1.0\n",
    "    probs = {}\n",
    "    for lbl in counts.keys():\n",
    "        probs[lbl] = str(int(counts[lbl] / total * 100)) + \"%\"\n",
    "    return probs\n",
    "\n",
    "my_leaf_0 = print_leaf(classify(training_data[0], my_tree))\n",
    "my_leaf_1 = print_leaf(classify(training_data[1], my_tree))\n",
    "\n",
    "print(my_leaf_0)\n",
    "print(my_leaf_1)"
   ]
  },
  {
   "cell_type": "code",
   "execution_count": 26,
   "metadata": {},
   "outputs": [
    {
     "name": "stdout",
     "output_type": "stream",
     "text": [
      "Is color == Green?\n",
      "--> True:\n",
      "  Predict {'Mango': 1}\n",
      "--> False:\n",
      "  Is color == Red?\n",
      "  --> True:\n",
      "    Predict {'Grape': 2}\n",
      "  --> False:\n",
      "    Predict {'Mango': 1, 'Lemon': 1}\n",
      "Actual: Mango. Predicted: {'Mango': '100%'}\n",
      "Actual: Mango. Predicted: {'Mango': '50%', 'Lemon': '50%'}\n",
      "Actual: Grape. Predicted: {'Grape': '100%'}\n",
      "Actual: Grape. Predicted: {'Grape': '100%'}\n",
      "Actual: Lemon. Predicted: {'Mango': '50%', 'Lemon': '50%'}\n"
     ]
    }
   ],
   "source": [
    "if __name__ == \"__main__\":\n",
    "    \n",
    "    my_tree = build_tree(training_data)\n",
    "    \n",
    "    print_tree(my_tree)\n",
    "    \n",
    "    # Evaluate\n",
    "    training_data = [\n",
    "    [\"Green\", 3, \"Mango\"],\n",
    "    [\"Yellow\", 3, \"Mango\"],\n",
    "    [\"Red\", 1, \"Grape\"],\n",
    "    [\"Red\", 1, \"Grape\"],\n",
    "    [\"Yellow\", 3, \"Lemon\"],\n",
    "    ]\n",
    "    \n",
    "    for row in training_data:\n",
    "        print(\"Actual: %s. Predicted: %s\" % (row[-1], print_leaf(classify(row, my_tree))))\n",
    "        \n",
    "    \n"
   ]
  },
  {
   "cell_type": "code",
   "execution_count": null,
   "metadata": {},
   "outputs": [],
   "source": []
  }
 ],
 "metadata": {
  "kernelspec": {
   "display_name": "Python 3",
   "language": "python",
   "name": "python3"
  },
  "language_info": {
   "codemirror_mode": {
    "name": "ipython",
    "version": 3
   },
   "file_extension": ".py",
   "mimetype": "text/x-python",
   "name": "python",
   "nbconvert_exporter": "python",
   "pygments_lexer": "ipython3",
   "version": "3.8.2"
  }
 },
 "nbformat": 4,
 "nbformat_minor": 4
}
