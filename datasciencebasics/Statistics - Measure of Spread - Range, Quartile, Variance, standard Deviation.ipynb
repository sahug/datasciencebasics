{
 "cells": [
  {
   "cell_type": "code",
   "execution_count": 1,
   "metadata": {},
   "outputs": [],
   "source": [
    "import numpy as np\n",
    "import matplotlib.pyplot as plt\n",
    "%matplotlib inline"
   ]
  },
  {
   "cell_type": "code",
   "execution_count": 3,
   "metadata": {},
   "outputs": [
    {
     "data": {
      "text/plain": [
       "array([ 0.92042192, -0.19846083,  0.11720753,  2.14889313, -0.83065738,\n",
       "       -0.62147299,  2.01340935,  1.53869416, -0.53594344])"
      ]
     },
     "execution_count": 3,
     "metadata": {},
     "output_type": "execute_result"
    }
   ],
   "source": [
    "# randn - Gives random numbers\n",
    "n = np.random.randn(9)\n",
    "n"
   ]
  },
  {
   "cell_type": "markdown",
   "metadata": {},
   "source": [
    "## Range - How well data is spread. Calculated by taking the difference of maximum and minimum value."
   ]
  },
  {
   "cell_type": "code",
   "execution_count": 6,
   "metadata": {},
   "outputs": [
    {
     "name": "stdout",
     "output_type": "stream",
     "text": [
      "Range: 2.979550510321117\n"
     ]
    }
   ],
   "source": [
    "print(\"Range: \" + str(np.max(n) - np.min(n)))"
   ]
  },
  {
   "cell_type": "markdown",
   "metadata": {},
   "source": [
    "## Quartile - Divides dataspread in to quarters, 25, 50, 75 and 100 percentile."
   ]
  },
  {
   "cell_type": "code",
   "execution_count": 7,
   "metadata": {},
   "outputs": [],
   "source": [
    "Q1 = np.percentile(n, 25)\n",
    "Q2 = np.percentile(n, 50)\n",
    "Q3 = np.percentile(n, 75)\n",
    "Q4 = np.percentile(n, 100)"
   ]
  },
  {
   "cell_type": "markdown",
   "metadata": {},
   "source": [
    "## Interquartile Range - Difference between Q1 and Q3"
   ]
  },
  {
   "cell_type": "code",
   "execution_count": 8,
   "metadata": {},
   "outputs": [
    {
     "data": {
      "text/plain": [
       "2.074637598656759"
      ]
     },
     "execution_count": 8,
     "metadata": {},
     "output_type": "execute_result"
    }
   ],
   "source": [
    "IQR = Q3 - Q1\n",
    "IQR"
   ]
  },
  {
   "cell_type": "markdown",
   "metadata": {},
   "source": [
    "## Variance - Rough value of how far data is away from mean."
   ]
  },
  {
   "cell_type": "code",
   "execution_count": 9,
   "metadata": {},
   "outputs": [
    {
     "data": {
      "text/plain": [
       "array([-1.44073884,  0.49923927, -0.03636917,  0.78694795, -1.49703895,\n",
       "        0.46075606,  0.06956056, -1.03350873, -3.34502467,  0.44973522,\n",
       "       -0.78125269, -0.39636802, -0.62768469, -0.35522815,  0.73089103,\n",
       "       -0.51525933, -0.74779733,  0.19600494,  0.05918888,  0.13474608,\n",
       "       -1.96335166, -0.10871322, -0.46407027,  1.35843621, -1.35666201,\n",
       "       -0.75430487,  1.50468633, -1.09632427, -1.31314953, -1.18049861,\n",
       "       -0.59765624, -1.50126673, -1.09128542,  1.26103059, -0.77467705,\n",
       "       -0.37283332,  0.13718529, -0.49908305,  2.07157404, -1.71960542,\n",
       "        0.56186761, -0.0670923 , -0.30746272, -0.97578343, -0.41235484,\n",
       "       -0.74958502, -0.05688254,  0.13581217,  1.09426753,  0.63141356,\n",
       "       -0.75846065, -0.40086715, -0.67106733, -0.67223469,  1.39374865,\n",
       "       -0.27463564, -0.422031  ,  0.30736501, -1.75804139, -0.61549852,\n",
       "        0.55781865, -0.22758063,  1.75056069,  1.36729332,  0.83017181,\n",
       "       -0.50484269, -0.46466409, -1.26722468, -1.66905733, -1.61921651,\n",
       "       -0.53057929,  1.17883915,  1.1092211 , -0.53789561, -0.18790993,\n",
       "       -0.37653832, -0.33186856, -0.68262307, -0.33303863,  0.30357937,\n",
       "        0.84938728,  0.27790441,  2.00406401,  0.02273805, -0.00726436,\n",
       "        1.01201535, -0.17150919,  0.47954654,  0.79026697, -1.1833551 ,\n",
       "       -1.33931239, -0.51447648,  1.36637337,  0.81927572,  0.85545037,\n",
       "       -0.47435462, -0.32477651, -0.84864026,  0.02371513,  0.195561  ])"
      ]
     },
     "execution_count": 9,
     "metadata": {},
     "output_type": "execute_result"
    }
   ],
   "source": [
    "population = np.random.randn(100)\n",
    "population"
   ]
  },
  {
   "cell_type": "code",
   "execution_count": 11,
   "metadata": {},
   "outputs": [
    {
     "data": {
      "text/plain": [
       "array([ 1.36729332,  0.30357937, -0.62768469, -1.44073884, -1.31314953,\n",
       "       -0.50484269,  1.75056069, -0.35522815, -3.34502467, -0.37283332,\n",
       "       -0.46466409, -0.78125269,  1.26103059, -1.1833551 ,  0.27790441,\n",
       "       -1.44073884,  0.44973522, -0.10871322, -0.17150919, -1.44073884,\n",
       "        0.56186761, -1.49703895, -0.22758063, -0.33303863, -0.77467705,\n",
       "        0.46075606,  0.13474608,  1.09426753,  0.195561  , -1.26722468])"
      ]
     },
     "execution_count": 11,
     "metadata": {},
     "output_type": "execute_result"
    }
   ],
   "source": [
    "sample = np.random.choice(population, 30)\n",
    "sample"
   ]
  },
  {
   "cell_type": "code",
   "execution_count": 12,
   "metadata": {},
   "outputs": [
    {
     "data": {
      "text/plain": [
       "0.8929021156939768"
      ]
     },
     "execution_count": 12,
     "metadata": {},
     "output_type": "execute_result"
    }
   ],
   "source": [
    "# Variance\n",
    "np.var(population)"
   ]
  },
  {
   "cell_type": "code",
   "execution_count": 13,
   "metadata": {},
   "outputs": [
    {
     "data": {
      "text/plain": [
       "1.080448753622568"
      ]
     },
     "execution_count": 13,
     "metadata": {},
     "output_type": "execute_result"
    }
   ],
   "source": [
    "np.var(sample)"
   ]
  },
  {
   "cell_type": "markdown",
   "metadata": {},
   "source": [
    "## Standard Deviation - Exact value of how far data is away from mean."
   ]
  },
  {
   "cell_type": "code",
   "execution_count": 14,
   "metadata": {},
   "outputs": [
    {
     "data": {
      "text/plain": [
       "0.9449349796118127"
      ]
     },
     "execution_count": 14,
     "metadata": {},
     "output_type": "execute_result"
    }
   ],
   "source": [
    "np.std(population)"
   ]
  },
  {
   "cell_type": "code",
   "execution_count": 15,
   "metadata": {},
   "outputs": [
    {
     "data": {
      "text/plain": [
       "1.0394463688053213"
      ]
     },
     "execution_count": 15,
     "metadata": {},
     "output_type": "execute_result"
    }
   ],
   "source": [
    "np.std(sample)"
   ]
  },
  {
   "cell_type": "code",
   "execution_count": null,
   "metadata": {},
   "outputs": [],
   "source": []
  }
 ],
 "metadata": {
  "kernelspec": {
   "display_name": "Python 3",
   "language": "python",
   "name": "python3"
  },
  "language_info": {
   "codemirror_mode": {
    "name": "ipython",
    "version": 3
   },
   "file_extension": ".py",
   "mimetype": "text/x-python",
   "name": "python",
   "nbconvert_exporter": "python",
   "pygments_lexer": "ipython3",
   "version": "3.5.6"
  }
 },
 "nbformat": 4,
 "nbformat_minor": 4
}
